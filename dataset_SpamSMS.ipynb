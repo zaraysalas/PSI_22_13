{
  "nbformat": 4,
  "nbformat_minor": 0,
  "metadata": {
    "colab": {
      "name": "dataset-SpamSMS.ipynb",
      "provenance": [],
      "collapsed_sections": []
    },
    "kernelspec": {
      "name": "python3",
      "display_name": "Python 3"
    },
    "language_info": {
      "name": "python"
    }
  },
  "cells": [
    {
      "cell_type": "code",
      "execution_count": null,
      "metadata": {
        "colab": {
          "base_uri": "https://localhost:8080/"
        },
        "id": "LGErUvfmNYS3",
        "outputId": "39f2d1e6-1503-4cf5-9586-5d9f188d3e51"
      },
      "outputs": [
        {
          "output_type": "stream",
          "name": "stdout",
          "text": [
            "Drive already mounted at /content/drive; to attempt to forcibly remount, call drive.mount(\"/content/drive\", force_remount=True).\n"
          ]
        }
      ],
      "source": [
        "from google.colab  import drive\n",
        "drive.mount('/content/drive')"
      ]
    },
    {
      "cell_type": "code",
      "source": [
        "import numpy as np\n",
        "import pandas as pd\n",
        "import matplotlib as mpl\n",
        "import matplotlib.pyplot as plt\n",
        "import seaborn as sns\n",
        "import nltk\n",
        "from nltk.corpus import stopwords\n",
        "import string\n",
        "%matplotlib inline\n",
        "from sklearn import preprocessing\n",
        "from scipy.stats import zscore\n",
        "from sklearn.preprocessing import StandardScaler\n",
        "from sklearn.decomposition import PCA\n",
        "import plotly.express as px\n",
        "from sklearn.compose import ColumnTransformer\n",
        "from sklearn.preprocessing import OneHotEncoder"
      ],
      "metadata": {
        "id": "JypZn_utNwFz"
      },
      "execution_count": null,
      "outputs": []
    },
    {
      "cell_type": "code",
      "source": [
        "path = '/content/drive/Shareddrives/TeamProject-StrategicBusinessIT&ProblemSolving/Datasets/dataset-SpamSMS.csv'\n",
        "dataset_spam = pd.read_csv(path)\n",
        "dataset_spam.head()"
      ],
      "metadata": {
        "colab": {
          "base_uri": "https://localhost:8080/",
          "height": 206
        },
        "id": "T3MYuqzuN36k",
        "outputId": "67f7c824-2e5e-4c4a-fa75-47d6bd2ac0a0"
      },
      "execution_count": null,
      "outputs": [
        {
          "output_type": "execute_result",
          "data": {
            "text/plain": [
              "   type                                               text\n",
              "0   ham  Hope you are having a good week. Just checking in\n",
              "1   ham                            K..give back my thanks.\n",
              "2   ham        Am also doing in cbe only. But have to pay.\n",
              "3  spam  complimentary 4 STAR Ibiza Holiday or £10,000 ...\n",
              "4  spam  okmail: Dear Dave this is your final notice to..."
            ],
            "text/html": [
              "\n",
              "  <div id=\"df-80d423f0-55c4-4846-9308-0fb93b4e4ac5\">\n",
              "    <div class=\"colab-df-container\">\n",
              "      <div>\n",
              "<style scoped>\n",
              "    .dataframe tbody tr th:only-of-type {\n",
              "        vertical-align: middle;\n",
              "    }\n",
              "\n",
              "    .dataframe tbody tr th {\n",
              "        vertical-align: top;\n",
              "    }\n",
              "\n",
              "    .dataframe thead th {\n",
              "        text-align: right;\n",
              "    }\n",
              "</style>\n",
              "<table border=\"1\" class=\"dataframe\">\n",
              "  <thead>\n",
              "    <tr style=\"text-align: right;\">\n",
              "      <th></th>\n",
              "      <th>type</th>\n",
              "      <th>text</th>\n",
              "    </tr>\n",
              "  </thead>\n",
              "  <tbody>\n",
              "    <tr>\n",
              "      <th>0</th>\n",
              "      <td>ham</td>\n",
              "      <td>Hope you are having a good week. Just checking in</td>\n",
              "    </tr>\n",
              "    <tr>\n",
              "      <th>1</th>\n",
              "      <td>ham</td>\n",
              "      <td>K..give back my thanks.</td>\n",
              "    </tr>\n",
              "    <tr>\n",
              "      <th>2</th>\n",
              "      <td>ham</td>\n",
              "      <td>Am also doing in cbe only. But have to pay.</td>\n",
              "    </tr>\n",
              "    <tr>\n",
              "      <th>3</th>\n",
              "      <td>spam</td>\n",
              "      <td>complimentary 4 STAR Ibiza Holiday or £10,000 ...</td>\n",
              "    </tr>\n",
              "    <tr>\n",
              "      <th>4</th>\n",
              "      <td>spam</td>\n",
              "      <td>okmail: Dear Dave this is your final notice to...</td>\n",
              "    </tr>\n",
              "  </tbody>\n",
              "</table>\n",
              "</div>\n",
              "      <button class=\"colab-df-convert\" onclick=\"convertToInteractive('df-80d423f0-55c4-4846-9308-0fb93b4e4ac5')\"\n",
              "              title=\"Convert this dataframe to an interactive table.\"\n",
              "              style=\"display:none;\">\n",
              "        \n",
              "  <svg xmlns=\"http://www.w3.org/2000/svg\" height=\"24px\"viewBox=\"0 0 24 24\"\n",
              "       width=\"24px\">\n",
              "    <path d=\"M0 0h24v24H0V0z\" fill=\"none\"/>\n",
              "    <path d=\"M18.56 5.44l.94 2.06.94-2.06 2.06-.94-2.06-.94-.94-2.06-.94 2.06-2.06.94zm-11 1L8.5 8.5l.94-2.06 2.06-.94-2.06-.94L8.5 2.5l-.94 2.06-2.06.94zm10 10l.94 2.06.94-2.06 2.06-.94-2.06-.94-.94-2.06-.94 2.06-2.06.94z\"/><path d=\"M17.41 7.96l-1.37-1.37c-.4-.4-.92-.59-1.43-.59-.52 0-1.04.2-1.43.59L10.3 9.45l-7.72 7.72c-.78.78-.78 2.05 0 2.83L4 21.41c.39.39.9.59 1.41.59.51 0 1.02-.2 1.41-.59l7.78-7.78 2.81-2.81c.8-.78.8-2.07 0-2.86zM5.41 20L4 18.59l7.72-7.72 1.47 1.35L5.41 20z\"/>\n",
              "  </svg>\n",
              "      </button>\n",
              "      \n",
              "  <style>\n",
              "    .colab-df-container {\n",
              "      display:flex;\n",
              "      flex-wrap:wrap;\n",
              "      gap: 12px;\n",
              "    }\n",
              "\n",
              "    .colab-df-convert {\n",
              "      background-color: #E8F0FE;\n",
              "      border: none;\n",
              "      border-radius: 50%;\n",
              "      cursor: pointer;\n",
              "      display: none;\n",
              "      fill: #1967D2;\n",
              "      height: 32px;\n",
              "      padding: 0 0 0 0;\n",
              "      width: 32px;\n",
              "    }\n",
              "\n",
              "    .colab-df-convert:hover {\n",
              "      background-color: #E2EBFA;\n",
              "      box-shadow: 0px 1px 2px rgba(60, 64, 67, 0.3), 0px 1px 3px 1px rgba(60, 64, 67, 0.15);\n",
              "      fill: #174EA6;\n",
              "    }\n",
              "\n",
              "    [theme=dark] .colab-df-convert {\n",
              "      background-color: #3B4455;\n",
              "      fill: #D2E3FC;\n",
              "    }\n",
              "\n",
              "    [theme=dark] .colab-df-convert:hover {\n",
              "      background-color: #434B5C;\n",
              "      box-shadow: 0px 1px 3px 1px rgba(0, 0, 0, 0.15);\n",
              "      filter: drop-shadow(0px 1px 2px rgba(0, 0, 0, 0.3));\n",
              "      fill: #FFFFFF;\n",
              "    }\n",
              "  </style>\n",
              "\n",
              "      <script>\n",
              "        const buttonEl =\n",
              "          document.querySelector('#df-80d423f0-55c4-4846-9308-0fb93b4e4ac5 button.colab-df-convert');\n",
              "        buttonEl.style.display =\n",
              "          google.colab.kernel.accessAllowed ? 'block' : 'none';\n",
              "\n",
              "        async function convertToInteractive(key) {\n",
              "          const element = document.querySelector('#df-80d423f0-55c4-4846-9308-0fb93b4e4ac5');\n",
              "          const dataTable =\n",
              "            await google.colab.kernel.invokeFunction('convertToInteractive',\n",
              "                                                     [key], {});\n",
              "          if (!dataTable) return;\n",
              "\n",
              "          const docLinkHtml = 'Like what you see? Visit the ' +\n",
              "            '<a target=\"_blank\" href=https://colab.research.google.com/notebooks/data_table.ipynb>data table notebook</a>'\n",
              "            + ' to learn more about interactive tables.';\n",
              "          element.innerHTML = '';\n",
              "          dataTable['output_type'] = 'display_data';\n",
              "          await google.colab.output.renderOutput(dataTable, element);\n",
              "          const docLink = document.createElement('div');\n",
              "          docLink.innerHTML = docLinkHtml;\n",
              "          element.appendChild(docLink);\n",
              "        }\n",
              "      </script>\n",
              "    </div>\n",
              "  </div>\n",
              "  "
            ]
          },
          "metadata": {},
          "execution_count": 24
        }
      ]
    },
    {
      "cell_type": "code",
      "source": [
        "#print the shape (get the number of rows and columns of the dataset)\n",
        "dataset_spam.shape"
      ],
      "metadata": {
        "colab": {
          "base_uri": "https://localhost:8080/"
        },
        "id": "W3wzmRPbmIRE",
        "outputId": "f60cba73-d2bd-419f-d14c-7fb95fb62962"
      },
      "execution_count": null,
      "outputs": [
        {
          "output_type": "execute_result",
          "data": {
            "text/plain": [
              "(15698, 2)"
            ]
          },
          "metadata": {},
          "execution_count": 25
        }
      ]
    },
    {
      "cell_type": "code",
      "source": [
        "#get the column names\n",
        "dataset_spam.columns"
      ],
      "metadata": {
        "colab": {
          "base_uri": "https://localhost:8080/"
        },
        "id": "6G3rFFpTmrX5",
        "outputId": "2744ba06-561a-4d10-9283-cb6913016ba5"
      },
      "execution_count": null,
      "outputs": [
        {
          "output_type": "execute_result",
          "data": {
            "text/plain": [
              "Index(['type', 'text'], dtype='object')"
            ]
          },
          "metadata": {},
          "execution_count": 26
        }
      ]
    },
    {
      "cell_type": "code",
      "source": [
        "#check for duplicates rows and remove or drop them later\n",
        "dataset_spam.drop_duplicates (inplace= True)"
      ],
      "metadata": {
        "id": "I_6T3IsIm6qE"
      },
      "execution_count": null,
      "outputs": []
    },
    {
      "cell_type": "code",
      "source": [
        "#show the new shape of the data, meaning the new number of rows and columns\n",
        "dataset_spam.shape"
      ],
      "metadata": {
        "colab": {
          "base_uri": "https://localhost:8080/"
        },
        "id": "wDQ7riPdnmto",
        "outputId": "0c801049-4277-4deb-fb57-5b859e5420b3"
      },
      "execution_count": null,
      "outputs": [
        {
          "output_type": "execute_result",
          "data": {
            "text/plain": [
              "(9882, 2)"
            ]
          },
          "metadata": {},
          "execution_count": 28
        }
      ]
    },
    {
      "cell_type": "code",
      "source": [
        "#show number of missing data for each column (NAN, NaN, na)\n",
        "dataset_spam.isnull().sum()"
      ],
      "metadata": {
        "colab": {
          "base_uri": "https://localhost:8080/"
        },
        "id": "kq1PtmsPn9OF",
        "outputId": "08fbc6a5-712b-4e6b-a308-a5c47e6f227e"
      },
      "execution_count": null,
      "outputs": [
        {
          "output_type": "execute_result",
          "data": {
            "text/plain": [
              "type    0\n",
              "text    0\n",
              "dtype: int64"
            ]
          },
          "metadata": {},
          "execution_count": 29
        }
      ]
    },
    {
      "cell_type": "code",
      "source": [
        "#download the stopwords package\n",
        "nltk.download('stopwords')"
      ],
      "metadata": {
        "colab": {
          "base_uri": "https://localhost:8080/"
        },
        "id": "rOxENtGpodKJ",
        "outputId": "6900a2a5-e5af-430b-a6e0-aad08e92bcb6"
      },
      "execution_count": null,
      "outputs": [
        {
          "output_type": "stream",
          "name": "stdout",
          "text": [
            "[nltk_data] Downloading package stopwords to /root/nltk_data...\n",
            "[nltk_data]   Unzipping corpora/stopwords.zip.\n"
          ]
        },
        {
          "output_type": "execute_result",
          "data": {
            "text/plain": [
              "True"
            ]
          },
          "metadata": {},
          "execution_count": 9
        }
      ]
    },
    {
      "cell_type": "markdown",
      "source": [
        "###We are going to use stopwords within the function that we are going to create, and this function will be used to process the text.\n",
        "###Stopwords in natural language processing are useless words or data"
      ],
      "metadata": {
        "id": "kK5Lbv_0pAPs"
      }
    },
    {
      "cell_type": "code",
      "source": [
        "def process_text(text):\n",
        "\n",
        "  #1 remove punctuation\n",
        "  #2 remove stopwords\n",
        "  #3 return a list of clean text words\n",
        "\n",
        "  #1. I created a variable called nopunc which is the short for no punctuation, this line will remove punctuation and store the new text in nopunc variable\n",
        "  nopunc = [char for char in text if char not in string.punctuation]\n",
        "  nopunc = ''.join(nopunc)\n",
        "\n",
        "  #2\n",
        "  clean_words = [word for word in nopunc.split() if word.lower() not in stopwords.words('english')]\n",
        "\n",
        "  #3\n",
        "  return clean_words\n"
      ],
      "metadata": {
        "id": "YjLNTm4FpPzr"
      },
      "execution_count": null,
      "outputs": []
    },
    {
      "cell_type": "markdown",
      "source": [
        "## **Tokenisation**"
      ],
      "metadata": {
        "id": "vPkoWGW-idpb"
      }
    },
    {
      "cell_type": "code",
      "source": [
        "#show tokenisation which separetes words by commas (it shows a list of tokens also called lemmas)\n",
        "#text is the text column, the messages of the data\n",
        "dataset_spam['text'].head().apply(process_text)"
      ],
      "metadata": {
        "colab": {
          "base_uri": "https://localhost:8080/"
        },
        "id": "UeDrjLkWuUpI",
        "outputId": "2426b815-6c81-463d-bedf-5069fb89d68f"
      },
      "execution_count": null,
      "outputs": [
        {
          "output_type": "execute_result",
          "data": {
            "text/plain": [
              "0                         [Hope, good, week, checking]\n",
              "1                                [Kgive, back, thanks]\n",
              "2                                     [also, cbe, pay]\n",
              "3    [complimentary, 4, STAR, Ibiza, Holiday, £1000...\n",
              "4    [okmail, Dear, Dave, final, notice, collect, 4...\n",
              "Name: text, dtype: object"
            ]
          },
          "metadata": {},
          "execution_count": 11
        }
      ]
    },
    {
      "cell_type": "markdown",
      "source": [
        "###The next cell shows how i am going to prepare the data for training on the classifier which means that it will show how to process this text to be able to put it into a model to then make predictions to detect whether or not that sms is spam"
      ],
      "metadata": {
        "id": "J4fI81J_m5oT"
      }
    },
    {
      "cell_type": "code",
      "source": [
        "#example\n",
        "message4 = 'week week week good good checking'\n",
        "message5 = 'final final final final collect checking'\n",
        "print(message4)\n",
        "print(message5)\n",
        "print()\n",
        "\n",
        "#convert the text to a matrix of token counts\n",
        "from sklearn.feature_extraction.text import CountVectorizer\n",
        "bow4 = CountVectorizer(analyzer=process_text).fit_transform([[message4], [message5]] )\n",
        "print(bow4)\n",
        "print()\n",
        "#this line prints the 2 rows 5 columns\n",
        "print(bow4.shape)\n"
      ],
      "metadata": {
        "colab": {
          "base_uri": "https://localhost:8080/"
        },
        "id": "Ol0iUvwZyg8J",
        "outputId": "8428d863-c120-4e05-b8a6-be313270b652"
      },
      "execution_count": null,
      "outputs": [
        {
          "output_type": "stream",
          "name": "stdout",
          "text": [
            "week week week good good checking\n",
            "final final final final collect checking\n",
            "\n",
            "  (0, 4)\t3\n",
            "  (0, 3)\t2\n",
            "  (0, 0)\t1\n",
            "  (1, 0)\t1\n",
            "  (1, 2)\t4\n",
            "  (1, 1)\t1\n",
            "\n",
            "(2, 5)\n"
          ]
        }
      ]
    },
    {
      "cell_type": "code",
      "source": [
        "#convert a collection of text to a matrix of tokens\n",
        "from sklearn.feature_extraction.text import CountVectorizer\n",
        "message_bow = CountVectorizer(analyzer= process_text).fit_transform(dataset_spam['text'])"
      ],
      "metadata": {
        "id": "hPXe3Gr2J5UI"
      },
      "execution_count": null,
      "outputs": []
    },
    {
      "cell_type": "code",
      "source": [
        "#Split the data into 80% training and 20% testing\n",
        "from sklearn.model_selection import train_test_split\n",
        "X_train, X_test, y_train, y_test = train_test_split(message_bow, dataset_spam['type'], test_size=0.20, random_state= 0)"
      ],
      "metadata": {
        "id": "N8W8Ym5-Nwyx"
      },
      "execution_count": null,
      "outputs": []
    },
    {
      "cell_type": "code",
      "source": [
        "#get the shape of message_bow (with 9882 rows and 21125 columns)\n",
        "message_bow.shape\n"
      ],
      "metadata": {
        "colab": {
          "base_uri": "https://localhost:8080/"
        },
        "id": "msPmsGHlQndz",
        "outputId": "a585983b-f1d2-4570-e375-77b4bccdd838"
      },
      "execution_count": null,
      "outputs": [
        {
          "output_type": "execute_result",
          "data": {
            "text/plain": [
              "(9882, 21125)"
            ]
          },
          "metadata": {},
          "execution_count": 15
        }
      ]
    },
    {
      "cell_type": "markdown",
      "source": [
        "# **Naive Bayes classification**\n",
        "Naïve Bayes algorithm is a supervised learning algorithm, which is based on Bayes theorem and used for solving classification problems. It is a probabilistic classifier, which means it predicts on the basis of the probability of an object. "
      ],
      "metadata": {
        "id": "a_qLo4mobZJ0"
      }
    },
    {
      "cell_type": "code",
      "source": [
        "#create and train the Naive Bayes Clasifier\n",
        "from sklearn.naive_bayes import MultinomialNB\n",
        "classifier = MultinomialNB().fit(X_train, y_train)"
      ],
      "metadata": {
        "id": "wLAKzhXrUO-R"
      },
      "execution_count": null,
      "outputs": []
    },
    {
      "cell_type": "code",
      "source": [
        "#Print the predictiones\n",
        "print(classifier.predict(X_train))\n",
        "\n",
        "#Print the actual values\n",
        "print(y_train.values)\n",
        "print(y_train)"
      ],
      "metadata": {
        "colab": {
          "base_uri": "https://localhost:8080/"
        },
        "id": "LhZOBl1tWQ4i",
        "outputId": "3d65b8aa-cebe-48a1-abde-aa42bfca6cec"
      },
      "execution_count": null,
      "outputs": [
        {
          "output_type": "stream",
          "name": "stdout",
          "text": [
            "['ham' 'ham' 'ham' ... 'spam' 'spam' 'ham']\n",
            "['ham' 'ham' 'ham' ... 'spam' 'spam' 'ham']\n",
            "15354     ham\n",
            "11918     ham\n",
            "1134      ham\n",
            "14249     ham\n",
            "8101      ham\n",
            "         ... \n",
            "14944     ham\n",
            "5223     spam\n",
            "3442     spam\n",
            "15651    spam\n",
            "2867      ham\n",
            "Name: type, Length: 7905, dtype: object\n"
          ]
        }
      ]
    },
    {
      "cell_type": "markdown",
      "source": [
        "### Another method that can help us to determinate how good this model is"
      ],
      "metadata": {
        "id": "K8XlUzk-blZb"
      }
    },
    {
      "cell_type": "code",
      "source": [
        "#Evaluate the model on the training data set\n",
        "from sklearn.metrics import classification_report, confusion_matrix, accuracy_score\n",
        "pred = classifier.predict(X_train)\n",
        "print(classification_report(y_train, pred))\n",
        "print()\n",
        "#it prints the confusion matrix of the data\n",
        "print('Confusion Matrix: \\n', confusion_matrix(y_train, pred))\n",
        "print()\n",
        "print('Accuracy: ', accuracy_score(y_train, pred))"
      ],
      "metadata": {
        "colab": {
          "base_uri": "https://localhost:8080/"
        },
        "id": "342OiD4kXidI",
        "outputId": "743c21cf-57f3-43c4-aa75-60dcbfe6f7f4"
      },
      "execution_count": null,
      "outputs": [
        {
          "output_type": "stream",
          "name": "stdout",
          "text": [
            "              precision    recall  f1-score   support\n",
            "\n",
            "         ham       0.99      0.99      0.99      6427\n",
            "        spam       0.94      0.97      0.96      1478\n",
            "\n",
            "    accuracy                           0.98      7905\n",
            "   macro avg       0.97      0.98      0.97      7905\n",
            "weighted avg       0.98      0.98      0.98      7905\n",
            "\n",
            "\n",
            "Confusion Matrix: \n",
            " [[6338   89]\n",
            " [  40 1438]]\n",
            "\n",
            "Accuracy:  0.9836812144212523\n"
          ]
        }
      ]
    },
    {
      "cell_type": "markdown",
      "source": [
        "###Now we see what the model does to a test data"
      ],
      "metadata": {
        "id": "GPDrSdGXVgQU"
      }
    },
    {
      "cell_type": "code",
      "source": [
        "#Print the predictiones\n",
        "print(classifier.predict(X_test))\n",
        "\n",
        "#Print the actual values\n",
        "print(y_test.values)\n",
        "print(y_test)"
      ],
      "metadata": {
        "colab": {
          "base_uri": "https://localhost:8080/"
        },
        "id": "fbipWYp1Uk7y",
        "outputId": "ef7b9f16-0be5-43ac-fde6-56db66774676"
      },
      "execution_count": null,
      "outputs": [
        {
          "output_type": "stream",
          "name": "stdout",
          "text": [
            "['ham' 'ham' 'ham' ... 'spam' 'spam' 'ham']\n",
            "['ham' 'ham' 'ham' ... 'spam' 'spam' 'ham']\n",
            "663       ham\n",
            "6602      ham\n",
            "2004      ham\n",
            "14146     ham\n",
            "2839      ham\n",
            "         ... \n",
            "14286     ham\n",
            "11962     ham\n",
            "12049    spam\n",
            "3498     spam\n",
            "4005      ham\n",
            "Name: type, Length: 1977, dtype: object\n"
          ]
        }
      ]
    },
    {
      "cell_type": "code",
      "source": [
        "#Evaluate the model on the training data set\n",
        "from sklearn.metrics import classification_report, confusion_matrix, accuracy_score\n",
        "pred = classifier.predict(X_test)\n",
        "print(classification_report(y_test, pred))\n",
        "print()\n",
        "#it prints the confusion matrix of the data\n",
        "print('Confusion Matrix: \\n', confusion_matrix(y_test, pred))\n",
        "print()\n",
        "print('Accuracy: ', accuracy_score(y_test, pred))"
      ],
      "metadata": {
        "colab": {
          "base_uri": "https://localhost:8080/"
        },
        "id": "V7Ev8JcTXDUL",
        "outputId": "7fe20bc4-3349-494c-f51c-870254e4eed3"
      },
      "execution_count": null,
      "outputs": [
        {
          "output_type": "stream",
          "name": "stdout",
          "text": [
            "              precision    recall  f1-score   support\n",
            "\n",
            "         ham       0.99      0.94      0.96      1619\n",
            "        spam       0.78      0.94      0.85       358\n",
            "\n",
            "    accuracy                           0.94      1977\n",
            "   macro avg       0.88      0.94      0.91      1977\n",
            "weighted avg       0.95      0.94      0.94      1977\n",
            "\n",
            "\n",
            "Confusion Matrix: \n",
            " [[1523   96]\n",
            " [  23  335]]\n",
            "\n",
            "Accuracy:  0.939807789580172\n"
          ]
        }
      ]
    },
    {
      "cell_type": "markdown",
      "source": [
        "### In the previous cell it is shown that the model on the testing data is not as accurate as it was on the training data with \"Accuracy: 0.9836812144212523\". It can only go up to 1 which is 100% , still 0.9398 is close enough."
      ],
      "metadata": {
        "id": "6hO6Bx-SZVzM"
      }
    },
    {
      "cell_type": "markdown",
      "source": [
        ""
      ],
      "metadata": {
        "id": "JazrmgdOcK53"
      }
    },
    {
      "cell_type": "markdown",
      "source": [
        "The following step is to gather some information about different columns in our DataFrame. We can do so by using .info(), which basically gives us information about the number of rows, columns, column data types, memory usage, etc. The columns with object dtype are the categorical variables in our dataset."
      ],
      "metadata": {
        "id": "zb5kLLGYiryY"
      }
    },
    {
      "cell_type": "code",
      "source": [
        "print(dataset_spam.info())"
      ],
      "metadata": {
        "colab": {
          "base_uri": "https://localhost:8080/"
        },
        "id": "AenzRsVDiWy1",
        "outputId": "9a7b7459-91ae-4220-b287-32a5285cf3fb"
      },
      "execution_count": null,
      "outputs": [
        {
          "output_type": "stream",
          "name": "stdout",
          "text": [
            "<class 'pandas.core.frame.DataFrame'>\n",
            "RangeIndex: 15698 entries, 0 to 15697\n",
            "Data columns (total 2 columns):\n",
            " #   Column  Non-Null Count  Dtype \n",
            "---  ------  --------------  ----- \n",
            " 0   type    15698 non-null  object\n",
            " 1   text    15698 non-null  object\n",
            "dtypes: object(2)\n",
            "memory usage: 245.4+ KB\n",
            "None\n"
          ]
        }
      ]
    },
    {
      "cell_type": "code",
      "source": [
        "dataset_spam[\"type\"].unique()"
      ],
      "metadata": {
        "colab": {
          "base_uri": "https://localhost:8080/"
        },
        "id": "kiSScCNnfhOW",
        "outputId": "ff9e0f23-36b8-40d8-d92b-d5af8e58f241"
      },
      "execution_count": null,
      "outputs": [
        {
          "output_type": "execute_result",
          "data": {
            "text/plain": [
              "array(['ham', 'spam'], dtype=object)"
            ]
          },
          "metadata": {},
          "execution_count": 5
        }
      ]
    },
    {
      "cell_type": "markdown",
      "source": [
        "#**Random Forest**"
      ],
      "metadata": {
        "id": "-yz6YAMuaB23"
      }
    },
    {
      "cell_type": "code",
      "source": [
        ""
      ],
      "metadata": {
        "id": "A_Tvl97NaM-x"
      },
      "execution_count": null,
      "outputs": []
    }
  ]
}