{
 "cells": [
  {
   "cell_type": "code",
   "execution_count": 1,
   "metadata": {
    "executionInfo": {
     "elapsed": 3563,
     "status": "ok",
     "timestamp": 1652360244702,
     "user": {
      "displayName": "Zaray Salas Lopez",
      "userId": "04334531544677941723"
     },
     "user_tz": -60
    },
    "id": "JypZn_utNwFz"
   },
   "outputs": [],
   "source": [
    "import numpy as np\n",
    "import pandas as pd\n",
    "import matplotlib as mpl\n",
    "import matplotlib.pyplot as plt\n",
    "import seaborn as sns\n",
    "import nltk\n",
    "from nltk.corpus import stopwords\n",
    "import string\n",
    "%matplotlib inline\n",
    "from sklearn import preprocessing\n",
    "from scipy.stats import zscore\n",
    "from sklearn.preprocessing import StandardScaler\n",
    "from sklearn.decomposition import PCA\n",
    "import plotly.express as px\n",
    "from sklearn.compose import ColumnTransformer\n",
    "from sklearn.preprocessing import OneHotEncoder\n",
    "\n",
    "from sklearn.feature_extraction.text import CountVectorizer\n",
    "from sklearn.feature_extraction.text import TfidfTransformer"
   ]
  },
  {
   "cell_type": "code",
   "execution_count": 2,
   "metadata": {
    "colab": {
     "base_uri": "https://localhost:8080/",
     "height": 206
    },
    "executionInfo": {
     "elapsed": 18,
     "status": "ok",
     "timestamp": 1652360244709,
     "user": {
      "displayName": "Zaray Salas Lopez",
      "userId": "04334531544677941723"
     },
     "user_tz": -60
    },
    "id": "T3MYuqzuN36k",
    "outputId": "7d627bd5-0204-4d6d-f744-1bcf396a699b",
    "scrolled": true
   },
   "outputs": [
    {
     "data": {
      "text/html": [
       "<div>\n",
       "<style scoped>\n",
       "    .dataframe tbody tr th:only-of-type {\n",
       "        vertical-align: middle;\n",
       "    }\n",
       "\n",
       "    .dataframe tbody tr th {\n",
       "        vertical-align: top;\n",
       "    }\n",
       "\n",
       "    .dataframe thead th {\n",
       "        text-align: right;\n",
       "    }\n",
       "</style>\n",
       "<table border=\"1\" class=\"dataframe\">\n",
       "  <thead>\n",
       "    <tr style=\"text-align: right;\">\n",
       "      <th></th>\n",
       "      <th>type</th>\n",
       "      <th>text</th>\n",
       "    </tr>\n",
       "  </thead>\n",
       "  <tbody>\n",
       "    <tr>\n",
       "      <th>0</th>\n",
       "      <td>ham</td>\n",
       "      <td>Hope you are having a good week. Just checking in</td>\n",
       "    </tr>\n",
       "    <tr>\n",
       "      <th>1</th>\n",
       "      <td>ham</td>\n",
       "      <td>K..give back my thanks.</td>\n",
       "    </tr>\n",
       "    <tr>\n",
       "      <th>2</th>\n",
       "      <td>ham</td>\n",
       "      <td>Am also doing in cbe only. But have to pay.</td>\n",
       "    </tr>\n",
       "    <tr>\n",
       "      <th>3</th>\n",
       "      <td>spam</td>\n",
       "      <td>complimentary 4 STAR Ibiza Holiday or £10,000 ...</td>\n",
       "    </tr>\n",
       "    <tr>\n",
       "      <th>4</th>\n",
       "      <td>spam</td>\n",
       "      <td>okmail: Dear Dave this is your final notice to...</td>\n",
       "    </tr>\n",
       "  </tbody>\n",
       "</table>\n",
       "</div>"
      ],
      "text/plain": [
       "   type                                               text\n",
       "0   ham  Hope you are having a good week. Just checking in\n",
       "1   ham                            K..give back my thanks.\n",
       "2   ham        Am also doing in cbe only. But have to pay.\n",
       "3  spam  complimentary 4 STAR Ibiza Holiday or £10,000 ...\n",
       "4  spam  okmail: Dear Dave this is your final notice to..."
      ]
     },
     "execution_count": 2,
     "metadata": {},
     "output_type": "execute_result"
    }
   ],
   "source": [
    "path = 'dataset-SpamSMS.csv'\n",
    "dataset_spam = pd.read_csv(path)\n",
    "dataset_spam.head()"
   ]
  },
  {
   "cell_type": "code",
   "execution_count": 3,
   "metadata": {
    "colab": {
     "base_uri": "https://localhost:8080/"
    },
    "executionInfo": {
     "elapsed": 16,
     "status": "ok",
     "timestamp": 1652360244710,
     "user": {
      "displayName": "Zaray Salas Lopez",
      "userId": "04334531544677941723"
     },
     "user_tz": -60
    },
    "id": "W3wzmRPbmIRE",
    "outputId": "8c213ffe-c8d2-46ed-b18e-d337f9d30ece"
   },
   "outputs": [
    {
     "data": {
      "text/plain": [
       "(15698, 2)"
      ]
     },
     "execution_count": 3,
     "metadata": {},
     "output_type": "execute_result"
    }
   ],
   "source": [
    "#print the shape (get the number of rows and columns of the dataset)\n",
    "dataset_spam.shape"
   ]
  },
  {
   "cell_type": "code",
   "execution_count": 4,
   "metadata": {
    "colab": {
     "base_uri": "https://localhost:8080/"
    },
    "executionInfo": {
     "elapsed": 15,
     "status": "ok",
     "timestamp": 1652360244710,
     "user": {
      "displayName": "Zaray Salas Lopez",
      "userId": "04334531544677941723"
     },
     "user_tz": -60
    },
    "id": "6G3rFFpTmrX5",
    "outputId": "51612b82-3d59-4fb1-8740-d72ac5c90133"
   },
   "outputs": [
    {
     "data": {
      "text/plain": [
       "Index(['type', 'text'], dtype='object')"
      ]
     },
     "execution_count": 4,
     "metadata": {},
     "output_type": "execute_result"
    }
   ],
   "source": [
    "#get the column names\n",
    "dataset_spam.columns"
   ]
  },
  {
   "cell_type": "code",
   "execution_count": 5,
   "metadata": {
    "colab": {
     "base_uri": "https://localhost:8080/"
    },
    "executionInfo": {
     "elapsed": 14,
     "status": "ok",
     "timestamp": 1652360244711,
     "user": {
      "displayName": "Zaray Salas Lopez",
      "userId": "04334531544677941723"
     },
     "user_tz": -60
    },
    "id": "68UGe4uqPV2K",
    "outputId": "cbd56dcf-53de-4ca6-eb89-bb83667d51fd"
   },
   "outputs": [
    {
     "name": "stdout",
     "output_type": "stream",
     "text": [
      "<class 'pandas.core.frame.DataFrame'>\n",
      "RangeIndex: 15698 entries, 0 to 15697\n",
      "Data columns (total 2 columns):\n",
      " #   Column  Non-Null Count  Dtype \n",
      "---  ------  --------------  ----- \n",
      " 0   type    15698 non-null  object\n",
      " 1   text    15698 non-null  object\n",
      "dtypes: object(2)\n",
      "memory usage: 245.4+ KB\n"
     ]
    }
   ],
   "source": [
    "dataset_spam.info()"
   ]
  },
  {
   "cell_type": "code",
   "execution_count": 6,
   "metadata": {
    "executionInfo": {
     "elapsed": 371,
     "status": "ok",
     "timestamp": 1652360245070,
     "user": {
      "displayName": "Zaray Salas Lopez",
      "userId": "04334531544677941723"
     },
     "user_tz": -60
    },
    "id": "I_6T3IsIm6qE"
   },
   "outputs": [],
   "source": [
    "#check for duplicates rows and remove or drop them later\n",
    "dataset_spam.drop_duplicates (inplace= True)"
   ]
  },
  {
   "cell_type": "code",
   "execution_count": 7,
   "metadata": {
    "colab": {
     "base_uri": "https://localhost:8080/"
    },
    "executionInfo": {
     "elapsed": 10,
     "status": "ok",
     "timestamp": 1652360245070,
     "user": {
      "displayName": "Zaray Salas Lopez",
      "userId": "04334531544677941723"
     },
     "user_tz": -60
    },
    "id": "wDQ7riPdnmto",
    "outputId": "9a730a2f-6164-4722-9669-16e7fd3618e0"
   },
   "outputs": [
    {
     "data": {
      "text/plain": [
       "(9882, 2)"
      ]
     },
     "execution_count": 7,
     "metadata": {},
     "output_type": "execute_result"
    }
   ],
   "source": [
    "#show the new shape of the data, meaning the new number of rows and columns\n",
    "dataset_spam.shape"
   ]
  },
  {
   "cell_type": "code",
   "execution_count": 8,
   "metadata": {
    "colab": {
     "base_uri": "https://localhost:8080/"
    },
    "executionInfo": {
     "elapsed": 10,
     "status": "ok",
     "timestamp": 1652360245071,
     "user": {
      "displayName": "Zaray Salas Lopez",
      "userId": "04334531544677941723"
     },
     "user_tz": -60
    },
    "id": "kq1PtmsPn9OF",
    "outputId": "0122a81d-c1dd-4e30-8ad5-b024777e91ef"
   },
   "outputs": [
    {
     "data": {
      "text/plain": [
       "type    0\n",
       "text    0\n",
       "dtype: int64"
      ]
     },
     "execution_count": 8,
     "metadata": {},
     "output_type": "execute_result"
    }
   ],
   "source": [
    "#show number of missing data for each column (NAN, NaN, na)\n",
    "dataset_spam.isnull().sum()"
   ]
  },
  {
   "cell_type": "markdown",
   "metadata": {
    "id": "kK5Lbv_0pAPs"
   },
   "source": [
    "###We are going to use stopwords within the function that we are going to create, and this function will be used to process the text.\n",
    "###Stopwords in natural language processing are useless words or data"
   ]
  },
  {
   "cell_type": "code",
   "execution_count": 9,
   "metadata": {},
   "outputs": [],
   "source": [
    "from sklearn.feature_extraction.text import TfidfVectorizer\n",
    "\n",
    "tfidfVectorizer = TfidfVectorizer()\n",
    "\n",
    "X = dataset_spam['text']\n",
    "X_tfidfvect = tfidfVectorizer.fit_transform(X)"
   ]
  },
  {
   "cell_type": "code",
   "execution_count": 10,
   "metadata": {},
   "outputs": [],
   "source": [
    "#Split the data into 80% training and 20% testing\n",
    "from sklearn.model_selection import train_test_split\n",
    "\n",
    "X_train_tfidfvect, X_test_tfidfvect, y_train_tfidfvect, y_test_tfidfvect = train_test_split(X_tfidfvect, \n",
    "                                                                                            dataset_spam['type'],\n",
    "                                                                                            stratify = dataset_spam['type'],\n",
    "                                                                                            test_size=0.20, \n",
    "                                                                                            random_state= 0)"
   ]
  },
  {
   "cell_type": "markdown",
   "metadata": {
    "id": "QiibBc5fti0L"
   },
   "source": [
    "#**Algorithms Comparison**"
   ]
  },
  {
   "cell_type": "code",
   "execution_count": 11,
   "metadata": {
    "executionInfo": {
     "elapsed": 5,
     "status": "ok",
     "timestamp": 1652360245072,
     "user": {
      "displayName": "Zaray Salas Lopez",
      "userId": "04334531544677941723"
     },
     "user_tz": -60
    },
    "id": "Fzumrf3htAt5"
   },
   "outputs": [],
   "source": [
    "from sklearn.linear_model import LogisticRegression\n",
    "from sklearn.neighbors import KNeighborsClassifier\n",
    "from sklearn.tree import DecisionTreeClassifier\n",
    "from sklearn.naive_bayes import MultinomialNB\n",
    "from sklearn.naive_bayes import GaussianNB\n",
    "from sklearn.svm import SVC\n",
    "from sklearn.ensemble import RandomForestClassifier\n",
    "\n",
    "from sklearn.model_selection import StratifiedKFold\n",
    "from sklearn.model_selection import cross_val_score\n",
    "from sklearn.metrics import accuracy_score\n",
    "from sklearn.metrics import classification_report\n",
    "from sklearn.metrics import confusion_matrix\n",
    "\n",
    "from sklearn.metrics import plot_confusion_matrix"
   ]
  },
  {
   "cell_type": "code",
   "execution_count": 12,
   "metadata": {
    "executionInfo": {
     "elapsed": 5,
     "status": "ok",
     "timestamp": 1652360245072,
     "user": {
      "displayName": "Zaray Salas Lopez",
      "userId": "04334531544677941723"
     },
     "user_tz": -60
    },
    "id": "A_Tvl97NaM-x"
   },
   "outputs": [],
   "source": [
    "classification_models = []\n",
    "classification_models.append(('LOGISTIC', LogisticRegression(solver='liblinear', multi_class='ovr')))\n",
    "classification_models.append(('NEIGHBOR', KNeighborsClassifier()))\n",
    "classification_models.append(('TREE', DecisionTreeClassifier()))\n",
    "classification_models.append(('NAIVEBAYES', MultinomialNB()))\n",
    "#classification_models.append(('NAIVEBAYES', GaussianNB()))\n",
    "classification_models.append(('VECTOR', SVC(gamma='auto')))\n",
    "classification_models.append(('FOREST',RandomForestClassifier(n_estimators=50, random_state=1, max_features = 'sqrt', n_jobs=-1, verbose = 1)))"
   ]
  },
  {
   "cell_type": "code",
   "execution_count": 13,
   "metadata": {
    "colab": {
     "base_uri": "https://localhost:8080/",
     "height": 1000
    },
    "executionInfo": {
     "elapsed": 974,
     "status": "ok",
     "timestamp": 1652360246042,
     "user": {
      "displayName": "Zaray Salas Lopez",
      "userId": "04334531544677941723"
     },
     "user_tz": -60
    },
    "id": "ytVNveF_rPA1",
    "outputId": "63b01d5d-311f-4fb8-bf97-8825900bdb39"
   },
   "outputs": [
    {
     "name": "stderr",
     "output_type": "stream",
     "text": [
      "[Parallel(n_jobs=-1)]: Using backend LokyBackend with 8 concurrent workers.\n",
      "[Parallel(n_jobs=-1)]: Done  34 tasks      | elapsed:   13.6s\n",
      "[Parallel(n_jobs=-1)]: Done  50 out of  50 | elapsed:   13.9s finished\n",
      "[Parallel(n_jobs=8)]: Using backend ThreadingBackend with 8 concurrent workers.\n",
      "[Parallel(n_jobs=8)]: Done  34 tasks      | elapsed:    0.0s\n",
      "[Parallel(n_jobs=8)]: Done  50 out of  50 | elapsed:    0.0s finished\n",
      "[Parallel(n_jobs=-1)]: Using backend LokyBackend with 8 concurrent workers.\n",
      "[Parallel(n_jobs=-1)]: Done  50 out of  50 | elapsed:    1.0s finished\n",
      "[Parallel(n_jobs=8)]: Using backend ThreadingBackend with 8 concurrent workers.\n",
      "[Parallel(n_jobs=8)]: Done  34 tasks      | elapsed:    0.0s\n",
      "[Parallel(n_jobs=8)]: Done  50 out of  50 | elapsed:    0.0s finished\n",
      "[Parallel(n_jobs=-1)]: Using backend LokyBackend with 8 concurrent workers.\n",
      "[Parallel(n_jobs=-1)]: Done  50 out of  50 | elapsed:    1.0s finished\n",
      "[Parallel(n_jobs=8)]: Using backend ThreadingBackend with 8 concurrent workers.\n",
      "[Parallel(n_jobs=8)]: Done  34 tasks      | elapsed:    0.0s\n",
      "[Parallel(n_jobs=8)]: Done  50 out of  50 | elapsed:    0.0s finished\n",
      "[Parallel(n_jobs=-1)]: Using backend LokyBackend with 8 concurrent workers.\n",
      "[Parallel(n_jobs=-1)]: Done  50 out of  50 | elapsed:    1.0s finished\n",
      "[Parallel(n_jobs=8)]: Using backend ThreadingBackend with 8 concurrent workers.\n",
      "[Parallel(n_jobs=8)]: Done  34 tasks      | elapsed:    0.0s\n",
      "[Parallel(n_jobs=8)]: Done  50 out of  50 | elapsed:    0.0s finished\n",
      "[Parallel(n_jobs=-1)]: Using backend LokyBackend with 8 concurrent workers.\n",
      "[Parallel(n_jobs=-1)]: Done  50 out of  50 | elapsed:    1.0s finished\n",
      "[Parallel(n_jobs=8)]: Using backend ThreadingBackend with 8 concurrent workers.\n",
      "[Parallel(n_jobs=8)]: Done  34 tasks      | elapsed:    0.0s\n",
      "[Parallel(n_jobs=8)]: Done  50 out of  50 | elapsed:    0.0s finished\n",
      "[Parallel(n_jobs=-1)]: Using backend LokyBackend with 8 concurrent workers.\n",
      "[Parallel(n_jobs=-1)]: Done  50 out of  50 | elapsed:    1.0s finished\n",
      "[Parallel(n_jobs=8)]: Using backend ThreadingBackend with 8 concurrent workers.\n",
      "[Parallel(n_jobs=8)]: Done  34 tasks      | elapsed:    0.0s\n",
      "[Parallel(n_jobs=8)]: Done  50 out of  50 | elapsed:    0.0s finished\n",
      "[Parallel(n_jobs=-1)]: Using backend LokyBackend with 8 concurrent workers.\n",
      "[Parallel(n_jobs=-1)]: Done  50 out of  50 | elapsed:    0.9s finished\n",
      "[Parallel(n_jobs=8)]: Using backend ThreadingBackend with 8 concurrent workers.\n",
      "[Parallel(n_jobs=8)]: Done  34 tasks      | elapsed:    0.0s\n",
      "[Parallel(n_jobs=8)]: Done  50 out of  50 | elapsed:    0.0s finished\n",
      "[Parallel(n_jobs=-1)]: Using backend LokyBackend with 8 concurrent workers.\n",
      "[Parallel(n_jobs=-1)]: Done  50 out of  50 | elapsed:    1.1s finished\n",
      "[Parallel(n_jobs=8)]: Using backend ThreadingBackend with 8 concurrent workers.\n",
      "[Parallel(n_jobs=8)]: Done  34 tasks      | elapsed:    0.0s\n",
      "[Parallel(n_jobs=8)]: Done  50 out of  50 | elapsed:    0.0s finished\n"
     ]
    },
    {
     "data": {
      "image/png": "[encoded data removed]",
      "text/plain": [
       "<Figure size 432x288 with 1 Axes>"
      ]
     },
     "metadata": {
      "needs_background": "light"
     },
     "output_type": "display_data"
    },
    {
     "data": {
      "text/html": [
       "<div>\n",
       "<style scoped>\n",
       "    .dataframe tbody tr th:only-of-type {\n",
       "        vertical-align: middle;\n",
       "    }\n",
       "\n",
       "    .dataframe tbody tr th {\n",
       "        vertical-align: top;\n",
       "    }\n",
       "\n",
       "    .dataframe thead th {\n",
       "        text-align: right;\n",
       "    }\n",
       "</style>\n",
       "<table border=\"1\" class=\"dataframe\">\n",
       "  <thead>\n",
       "    <tr style=\"text-align: right;\">\n",
       "      <th></th>\n",
       "      <th>LOGISTIC</th>\n",
       "      <th>NEIGHBOR</th>\n",
       "      <th>TREE</th>\n",
       "      <th>NAIVEBAYES</th>\n",
       "      <th>VECTOR</th>\n",
       "      <th>FOREST</th>\n",
       "    </tr>\n",
       "  </thead>\n",
       "  <tbody>\n",
       "    <tr>\n",
       "      <th>Accuracy(%)</th>\n",
       "      <td>94.269364</td>\n",
       "      <td>87.286429</td>\n",
       "      <td>95.332053</td>\n",
       "      <td>93.130918</td>\n",
       "      <td>81.416828</td>\n",
       "      <td>95.838062</td>\n",
       "    </tr>\n",
       "    <tr>\n",
       "      <th>STD</th>\n",
       "      <td>0.652566</td>\n",
       "      <td>0.515731</td>\n",
       "      <td>0.728973</td>\n",
       "      <td>0.400082</td>\n",
       "      <td>0.047551</td>\n",
       "      <td>0.555491</td>\n",
       "    </tr>\n",
       "  </tbody>\n",
       "</table>\n",
       "</div>"
      ],
      "text/plain": [
       "              LOGISTIC   NEIGHBOR       TREE  NAIVEBAYES     VECTOR     FOREST\n",
       "Accuracy(%)  94.269364  87.286429  95.332053   93.130918  81.416828  95.838062\n",
       "STD           0.652566   0.515731   0.728973    0.400082   0.047551   0.555491"
      ]
     },
     "execution_count": 13,
     "metadata": {},
     "output_type": "execute_result"
    }
   ],
   "source": [
    "results = []\n",
    "algorithms = []\n",
    "cv_results_mean = []\n",
    "cv_results_std = []\n",
    "for algorith, model in classification_models:\n",
    "    kfold = StratifiedKFold(n_splits = 8, random_state = 1, shuffle = True)\n",
    "    cv_results = (cross_val_score(model, X_train_tfidfvect, y_train_tfidfvect, cv=kfold, scoring='accuracy'))*100\n",
    "    results.append(cv_results)\n",
    "    algorithms.append(algorith)\n",
    "    cv_results_mean.append(cv_results.mean())\n",
    "    cv_results_std.append(cv_results.std())\n",
    "\n",
    "Accuracy_chart_data = [cv_results_mean, cv_results_std]\n",
    "Accuracy_chart = pd.DataFrame(Accuracy_chart_data, columns = algorithms, index = ['Accuracy(%)', 'STD'])\n",
    "  \n",
    "plt.boxplot(results, labels = algorithms)\n",
    "plt.title('\\nMODELS COMPARISON\\n'.upper(), loc='center', fontsize = 20)\n",
    "plt.show()\n",
    "\n",
    "Accuracy_chart"
   ]
  },
  {
   "cell_type": "code",
   "execution_count": 14,
   "metadata": {
    "colab": {
     "base_uri": "https://localhost:8080/"
    },
    "executionInfo": {
     "elapsed": 493,
     "status": "ok",
     "timestamp": 1652360246532,
     "user": {
      "displayName": "Zaray Salas Lopez",
      "userId": "04334531544677941723"
     },
     "user_tz": -60
    },
    "id": "yIHWw24qIn5s",
    "outputId": "3d0a333f-3e97-44d9-a39a-d5fcb00d09dc"
   },
   "outputs": [],
   "source": [
    "def accuracyscore(X_train, y_train, model, X_test):\n",
    "    model.fit(X_train, y_train)\n",
    "    predictions = model.predict(X_test)\n",
    "    return predictions"
   ]
  },
  {
   "cell_type": "code",
   "execution_count": 15,
   "metadata": {
    "executionInfo": {
     "elapsed": 5,
     "status": "ok",
     "timestamp": 1652360245071,
     "user": {
      "displayName": "Zaray Salas Lopez",
      "userId": "04334531544677941723"
     },
     "user_tz": -60
    },
    "id": "N8W8Ym5-Nwyx"
   },
   "outputs": [],
   "source": [
    "#Split the data into 80% training and 20% testing\n",
    "from sklearn.model_selection import train_test_split\n",
    "\n",
    "dataset_spam = pd.read_csv(path)\n",
    "\n",
    "X = dataset_spam['text'].values\n",
    "y = dataset_spam['type'].values\n",
    "\n",
    "X_train, X_test, y_train, y_test = train_test_split(X, \n",
    "                                                    y, \n",
    "                                                    stratify = y,\n",
    "                                                    test_size=0.20, \n",
    "                                                    random_state= 0)"
   ]
  },
  {
   "cell_type": "markdown",
   "metadata": {
    "id": "rvR4neNP97r8"
   },
   "source": [
    "# **Training the Logistic Regression algorithm**"
   ]
  },
  {
   "cell_type": "code",
   "execution_count": 16,
   "metadata": {},
   "outputs": [],
   "source": [
    "from sklearn.pipeline import make_pipeline"
   ]
  },
  {
   "cell_type": "code",
   "execution_count": 17,
   "metadata": {
    "executionInfo": {
     "elapsed": 8,
     "status": "ok",
     "timestamp": 1652360247263,
     "user": {
      "displayName": "Zaray Salas Lopez",
      "userId": "04334531544677941723"
     },
     "user_tz": -60
    },
    "id": "ruGO-oPDCH0J"
   },
   "outputs": [],
   "source": [
    "from sklearn.metrics import classification_report"
   ]
  },
  {
   "cell_type": "code",
   "execution_count": 18,
   "metadata": {
    "executionInfo": {
     "elapsed": 7,
     "status": "ok",
     "timestamp": 1652360246044,
     "user": {
      "displayName": "Zaray Salas Lopez",
      "userId": "04334531544677941723"
     },
     "user_tz": -60
    },
    "id": "FPTkyJVUIdj7"
   },
   "outputs": [],
   "source": [
    "#The code below is eliminating stop words.\n",
    "#tfidfvectorizer = TfidfVectorizer(analyzer='word',stop_words= 'english')\n",
    "\n",
    "\n",
    "#convert a collection of text to a matrix of words without eliminating stop words\n",
    "model_LR = make_pipeline(TfidfVectorizer(), \n",
    "                      LogisticRegression(solver='liblinear', \n",
    "                                         multi_class='ovr'))"
   ]
  },
  {
   "cell_type": "markdown",
   "metadata": {
    "id": "nZFybKo0TcuH"
   },
   "source": [
    "Prediction with real SMS"
   ]
  },
  {
   "cell_type": "code",
   "execution_count": 19,
   "metadata": {
    "executionInfo": {
     "elapsed": 9,
     "status": "ok",
     "timestamp": 1652360247791,
     "user": {
      "displayName": "Zaray Salas Lopez",
      "userId": "04334531544677941723"
     },
     "user_tz": -60
    },
    "id": "wE_KdF2gJZkb"
   },
   "outputs": [],
   "source": [
    "def predict_SMS(sms, model):\n",
    "    pred = model.predict([sms])\n",
    "    return pred[0]"
   ]
  },
  {
   "cell_type": "code",
   "execution_count": 20,
   "metadata": {
    "colab": {
     "base_uri": "https://localhost:8080/"
    },
    "executionInfo": {
     "elapsed": 9,
     "status": "ok",
     "timestamp": 1652360247792,
     "user": {
      "displayName": "Zaray Salas Lopez",
      "userId": "04334531544677941723"
     },
     "user_tz": -60
    },
    "id": "H-jM4-sQLgFV",
    "outputId": "a2089854-41e7-4055-ccf1-083781b183fb"
   },
   "outputs": [],
   "source": [
    "#real_sms_prediction = predict_SMS('Your AIB online access is suspended due to unusual activity. To restore access please follow the steps via: https://securemobileaibapp.com', model_LR)\n",
    "#print(real_sms_prediction)"
   ]
  },
  {
   "cell_type": "markdown",
   "metadata": {},
   "source": [
    "# **Training the Random Forest Classifier Algorith**"
   ]
  },
  {
   "cell_type": "code",
   "execution_count": 21,
   "metadata": {},
   "outputs": [],
   "source": [
    "model_RFC = make_pipeline(TfidfVectorizer(), \n",
    "                      RandomForestClassifier(random_state = 1, \n",
    "                               max_features = 'sqrt',\n",
    "                               n_jobs=-1, \n",
    "                               verbose = 1))"
   ]
  },
  {
   "cell_type": "code",
   "execution_count": 22,
   "metadata": {},
   "outputs": [],
   "source": [
    "#real_sms_prediction = predict_SMS('Your AIB online access is suspended due to unusual activity. To restore access please follow the steps via: https://securemobileaibapp.com', model_RFC)\n",
    "#print(real_sms_prediction)"
   ]
  },
  {
   "cell_type": "markdown",
   "metadata": {},
   "source": [
    "# **Accuracy of the models**"
   ]
  },
  {
   "cell_type": "code",
   "execution_count": 24,
   "metadata": {
    "scrolled": true
   },
   "outputs": [
    {
     "name": "stdout",
     "output_type": "stream",
     "text": [
      "LOGISTIC REGRESSION accuracy score 96.97452229299363 %\n"
     ]
    },
    {
     "name": "stderr",
     "output_type": "stream",
     "text": [
      "[Parallel(n_jobs=-1)]: Using backend ThreadingBackend with 8 concurrent workers.\n",
      "[Parallel(n_jobs=-1)]: Done  34 tasks      | elapsed:    0.3s\n"
     ]
    },
    {
     "name": "stdout",
     "output_type": "stream",
     "text": [
      "RANDOM FOREST CLASSIFIER accuracy score 98.53503184713375 %\n"
     ]
    },
    {
     "name": "stderr",
     "output_type": "stream",
     "text": [
      "[Parallel(n_jobs=-1)]: Done 100 out of 100 | elapsed:    0.9s finished\n",
      "[Parallel(n_jobs=8)]: Using backend ThreadingBackend with 8 concurrent workers.\n",
      "[Parallel(n_jobs=8)]: Done  34 tasks      | elapsed:    0.0s\n",
      "[Parallel(n_jobs=8)]: Done 100 out of 100 | elapsed:    0.0s finished\n"
     ]
    }
   ],
   "source": [
    "predictions = accuracyscore(X_train, y_train, model_LR, X_test)\n",
    "print(\"LOGISTIC REGRESSION accuracy score\", accuracy_score(y_test, predictions)*100, '%')\n",
    "\n",
    "ac_s = accuracyscore(X_train, y_train, model_RFC, X_test)\n",
    "print(\"RANDOM FOREST CLASSIFIER accuracy score\", accuracy_score(y_test, ac_s)*100, '%')"
   ]
  },
  {
   "cell_type": "code",
   "execution_count": 25,
   "metadata": {},
   "outputs": [
    {
     "name": "stdout",
     "output_type": "stream",
     "text": [
      "CLASSIFICATION REPORT FOR LOGISTIC REGRESSION:\n",
      "               precision    recall  f1-score   support\n",
      "\n",
      "         ham       0.97      1.00      0.98      2599\n",
      "        spam       0.98      0.84      0.91       541\n",
      "\n",
      "    accuracy                           0.97      3140\n",
      "   macro avg       0.98      0.92      0.94      3140\n",
      "weighted avg       0.97      0.97      0.97      3140\n",
      "\n",
      "\n",
      "\n",
      "CLASSIFICATION REPORT FOR RANDOM FOREST:\n",
      "               precision    recall  f1-score   support\n",
      "\n",
      "         ham       0.99      1.00      0.99      2599\n",
      "        spam       0.98      0.94      0.96       541\n",
      "\n",
      "    accuracy                           0.99      3140\n",
      "   macro avg       0.98      0.97      0.97      3140\n",
      "weighted avg       0.99      0.99      0.99      3140\n",
      "\n"
     ]
    }
   ],
   "source": [
    "print('CLASSIFICATION REPORT FOR LOGISTIC REGRESSION:\\n', classification_report(y_test, predictions))\n",
    "\n",
    "print('\\n\\nCLASSIFICATION REPORT FOR RANDOM FOREST:\\n', classification_report(y_test, ac_s))"
   ]
  },
  {
   "cell_type": "code",
   "execution_count": 26,
   "metadata": {
    "colab": {
     "base_uri": "https://localhost:8080/",
     "height": 143
    },
    "executionInfo": {
     "elapsed": 10,
     "status": "ok",
     "timestamp": 1652360247790,
     "user": {
      "displayName": "Zaray Salas Lopez",
      "userId": "04334531544677941723"
     },
     "user_tz": -60
    },
    "id": "qzqZnGkUD7hx",
    "outputId": "97260e75-1c06-4bb9-8399-3f283763dca2"
   },
   "outputs": [
    {
     "data": {
      "text/html": [
       "<div>\n",
       "<style scoped>\n",
       "    .dataframe tbody tr th:only-of-type {\n",
       "        vertical-align: middle;\n",
       "    }\n",
       "\n",
       "    .dataframe tbody tr th {\n",
       "        vertical-align: top;\n",
       "    }\n",
       "\n",
       "    .dataframe thead th {\n",
       "        text-align: right;\n",
       "    }\n",
       "</style>\n",
       "<table border=\"1\" class=\"dataframe\">\n",
       "  <thead>\n",
       "    <tr style=\"text-align: right;\">\n",
       "      <th></th>\n",
       "      <th>Predictions</th>\n",
       "      <th>Validation_Set</th>\n",
       "    </tr>\n",
       "  </thead>\n",
       "  <tbody>\n",
       "    <tr>\n",
       "      <th>0</th>\n",
       "      <td>ham</td>\n",
       "      <td>ham</td>\n",
       "    </tr>\n",
       "    <tr>\n",
       "      <th>1</th>\n",
       "      <td>ham</td>\n",
       "      <td>ham</td>\n",
       "    </tr>\n",
       "    <tr>\n",
       "      <th>2</th>\n",
       "      <td>ham</td>\n",
       "      <td>ham</td>\n",
       "    </tr>\n",
       "  </tbody>\n",
       "</table>\n",
       "</div>"
      ],
      "text/plain": [
       "  Predictions Validation_Set\n",
       "0         ham            ham\n",
       "1         ham            ham\n",
       "2         ham            ham"
      ]
     },
     "execution_count": 26,
     "metadata": {},
     "output_type": "execute_result"
    }
   ],
   "source": [
    "pred_val_comp = np.concatenate((predictions.reshape(len(predictions),1), y_test.reshape(len(y_test),1)),1)\n",
    "pred_val_comp = pd.DataFrame(pred_val_comp, columns = ['Predictions', 'Validation_Set'])\n",
    "pred_val_comp.head(3)"
   ]
  },
  {
   "cell_type": "code",
   "execution_count": 27,
   "metadata": {},
   "outputs": [
    {
     "data": {
      "text/html": [
       "<div>\n",
       "<style scoped>\n",
       "    .dataframe tbody tr th:only-of-type {\n",
       "        vertical-align: middle;\n",
       "    }\n",
       "\n",
       "    .dataframe tbody tr th {\n",
       "        vertical-align: top;\n",
       "    }\n",
       "\n",
       "    .dataframe thead th {\n",
       "        text-align: right;\n",
       "    }\n",
       "</style>\n",
       "<table border=\"1\" class=\"dataframe\">\n",
       "  <thead>\n",
       "    <tr style=\"text-align: right;\">\n",
       "      <th></th>\n",
       "      <th>Predictions</th>\n",
       "      <th>Validation_Set</th>\n",
       "    </tr>\n",
       "  </thead>\n",
       "  <tbody>\n",
       "    <tr>\n",
       "      <th>0</th>\n",
       "      <td>ham</td>\n",
       "      <td>ham</td>\n",
       "    </tr>\n",
       "    <tr>\n",
       "      <th>1</th>\n",
       "      <td>ham</td>\n",
       "      <td>ham</td>\n",
       "    </tr>\n",
       "    <tr>\n",
       "      <th>2</th>\n",
       "      <td>ham</td>\n",
       "      <td>ham</td>\n",
       "    </tr>\n",
       "  </tbody>\n",
       "</table>\n",
       "</div>"
      ],
      "text/plain": [
       "  Predictions Validation_Set\n",
       "0         ham            ham\n",
       "1         ham            ham\n",
       "2         ham            ham"
      ]
     },
     "execution_count": 27,
     "metadata": {},
     "output_type": "execute_result"
    }
   ],
   "source": [
    "pred_val_comp = np.concatenate((ac_s.reshape(len(predictions),1), y_test.reshape(len(y_test),1)),1)\n",
    "pred_val_comp = pd.DataFrame(pred_val_comp, columns = ['Predictions', 'Validation_Set'])\n",
    "pred_val_comp.head(3)"
   ]
  },
  {
   "cell_type": "code",
   "execution_count": 28,
   "metadata": {
    "colab": {
     "base_uri": "https://localhost:8080/",
     "height": 344
    },
    "executionInfo": {
     "elapsed": 10,
     "status": "ok",
     "timestamp": 1652360247791,
     "user": {
      "displayName": "Zaray Salas Lopez",
      "userId": "04334531544677941723"
     },
     "user_tz": -60
    },
    "id": "vghaM3vZGMkh",
    "outputId": "53c85533-f095-4e60-c1d8-135a294c7d03"
   },
   "outputs": [
    {
     "data": {
      "text/plain": [
       "\"\\nplt.figure(figsize=(5,4))\\nplt.plot(pred_val_comp.Predictions, 'rD')\\nplt.plot(pred_val_comp.Validation_Set, 'b*')\\nplt.xlabel('Observations')\\nplt.ylabel('SMS type')\\nplt.legend(['Predictions', 'Validations'], loc='best')\\na = plt.title('\\nPREDICTIONS vs VALIDATIONS\\n'.upper(), loc='center', fontsize = 20)\\n\""
      ]
     },
     "execution_count": 28,
     "metadata": {},
     "output_type": "execute_result"
    }
   ],
   "source": [
    "\"\"\"\n",
    "plt.figure(figsize=(5,4))\n",
    "plt.plot(pred_val_comp.Predictions, 'rD')\n",
    "plt.plot(pred_val_comp.Validation_Set, 'b*')\n",
    "plt.xlabel('Observations')\n",
    "plt.ylabel('SMS type')\n",
    "plt.legend(['Predictions', 'Validations'], loc='best')\n",
    "a = plt.title('\\nPREDICTIONS vs VALIDATIONS\\n'.upper(), loc='center', fontsize = 20)\n",
    "\"\"\""
   ]
  },
  {
   "cell_type": "code",
   "execution_count": 29,
   "metadata": {},
   "outputs": [
    {
     "name": "stderr",
     "output_type": "stream",
     "text": [
      "[Parallel(n_jobs=8)]: Using backend ThreadingBackend with 8 concurrent workers.\n",
      "[Parallel(n_jobs=8)]: Done  34 tasks      | elapsed:    0.0s\n",
      "[Parallel(n_jobs=8)]: Done 100 out of 100 | elapsed:    0.0s finished\n"
     ]
    },
    {
     "data": {
      "image/png": "[encoded data removed]",
      "text/plain": [
       "<Figure size 936x360 with 4 Axes>"
      ]
     },
     "metadata": {
      "needs_background": "light"
     },
     "output_type": "display_data"
    }
   ],
   "source": [
    "models = [model_LR, model_RFC]\n",
    "\n",
    "fig, axes = plt.subplots(nrows=1, ncols=2, figsize=(13,5))\n",
    "\n",
    "for model, ax in zip(models, axes.flatten()):\n",
    "    plot_confusion_matrix(model, \n",
    "                          X_test, \n",
    "                          y_test, \n",
    "                          ax=ax, \n",
    "                          cmap='Blues')\n",
    "    ax.title.set_text(model[1])\n",
    "fig.suptitle('Confusion Matrix\\n', fontsize = 20)\n",
    "plt.tight_layout()  \n",
    "plt.show()"
   ]
  },
  {
   "cell_type": "markdown",
   "metadata": {},
   "source": [
    "# **Graphical User Interface**"
   ]
  },
  {
   "cell_type": "code",
   "execution_count": 30,
   "metadata": {},
   "outputs": [],
   "source": [
    "import warnings\n",
    "warnings.filterwarnings('ignore')\n",
    "warnings.simplefilter('ignore')\n",
    "\n",
    "from PIL import Image\n",
    "import requests\n",
    "from io import BytesIO\n",
    "### CREATE VIRTUAL DISPLAY ###\n",
    "#!apt-get install -y xvfb # X Virtual Frame Buffer Installation\n",
    "import os"
   ]
  },
  {
   "cell_type": "code",
   "execution_count": 31,
   "metadata": {},
   "outputs": [],
   "source": [
    "os.system('Xvfb :1 -screen 0 1600x1200x16  &')   # virtual display [1600x1200] 16 bit color (can be 8, 16, 24)\n",
    "os.environ['DISPLAY']=':1.0'    # request X clients to use virtual DISPLAY :1.0."
   ]
  },
  {
   "cell_type": "code",
   "execution_count": 37,
   "metadata": {},
   "outputs": [
    {
     "name": "stderr",
     "output_type": "stream",
     "text": [
      "[Parallel(n_jobs=8)]: Using backend ThreadingBackend with 8 concurrent workers.\n",
      "[Parallel(n_jobs=8)]: Done  34 tasks      | elapsed:    0.0s\n",
      "[Parallel(n_jobs=8)]: Done 100 out of 100 | elapsed:    0.0s finished\n"
     ]
    },
    {
     "name": "stdout",
     "output_type": "stream",
     "text": [
      "Your AIB online access is suspended due to unusual activity. To restore access please follow the steps via: https://securemobileaibapp.com\n"
     ]
    }
   ],
   "source": [
    "# VERSION 3.0\n",
    "import sys\n",
    "try:\n",
    "    # python 2.x\n",
    "    from Tkinter import * #import Tkinter as tk\n",
    "except ImportError:\n",
    "    # python 3.x\n",
    "    from tkinter import * #import tkinter as tk\n",
    "\n",
    "# Pillow library (Images)\n",
    "from PIL import Image, ImageTk\n",
    "\n",
    "def on_resize(event):\n",
    "  pass\n",
    "    # resize BG_IMG(Label_SIZE) & update Label IMG\n",
    "    #BG_.image = ImageTk.PhotoImage(BG_IMG.resize((event.width, event.height), Image.ANTIALIAS))\n",
    "    #BG_.config(image=BG_.image)\n",
    "\n",
    "# Define Function for get Value\n",
    "def detection():\n",
    "    get_user_sms = msg.get(\"1.0\",'end-1c')\n",
    "    \n",
    "    LogisticRegression_Prediction = predict_SMS(get_user_sms, model_LR)\n",
    "    RandomForest_Prediction = predict_SMS(get_user_sms, model_RFC)\n",
    "    \n",
    "    output = \"This SMS acording with...\\n\\n\"\n",
    "    output += \"Logistic Regression Model is: \\t\" + LogisticRegression_Prediction\n",
    "    output += \"\\n\\nRandom Forest Classifier Model is: \" + RandomForest_Prediction\n",
    "\n",
    "    myTKlabel['text'] = output\n",
    "    print(get_user_sms)\n",
    "    \n",
    "root = Tk()\n",
    "root.wm_title('            SMS SPAM DETECTION            ')\n",
    "\n",
    "HEIGTH = 550#700\n",
    "WIDTH = 400\n",
    "BG_color = 'black'\n",
    "\n",
    "root.geometry('{}x{}'.format(WIDTH, HEIGTH))\n",
    "BG_ = Label(root, \n",
    "            bg=BG_color,\n",
    "           )\n",
    "BG_.place(x=0, y=0, relwidth=1, relheight=1) # make label l to fit the parent window always\n",
    "\n",
    "# TITLE\n",
    "title = Label(\n",
    "    root,\n",
    "    text='SMS SPAM DETECTION',\n",
    "    relief=SUNKEN,\n",
    "    fg='gold',\n",
    "    bg=BG_color,\n",
    "    font=(\"Helvetica\", 14, 'underline'),\n",
    "    borderwidth=0\n",
    "    )\n",
    "title.pack(pady = 25, ipadx=0, ipady=0)\n",
    "\n",
    "# INPUT MSG\n",
    "msg = Text(root, height = 5, width = 45)#, width=40)\n",
    "msg.pack()\n",
    "msg.insert('1.0', 'Enter SMS Here...')\n",
    "\n",
    "# LABEL: OUTPUT AREA (SPAM | HAM)\n",
    "myTKlabel = Label(root, text='?', fg='green', bg='white', font=(\"Helvetica\", 12),\n",
    "                  borderwidth=4, relief=\"raised\", height=15, width=39, justify=LEFT\n",
    "                  )\n",
    "myTKlabel.pack(pady = 10, ipadx=0, ipady=0)\n",
    "\n",
    "# BUTTON: DETECT CLASSIFY|DETECT SPAM\n",
    "BTN_ = Button(root, height=1, width=30, text=\"CLASSIFY\", command = detection, bg=\"green\", fg=\"white\",\n",
    "            font=(\"Helvetica\", 14)\n",
    "             )\n",
    "BTN_.pack()\n",
    "\n",
    "root.mainloop()"
   ]
  }
 ],
 "metadata": {
  "colab": {
   "collapsed_sections": [
    "QiibBc5fti0L"
   ],
   "name": "dataset-SpamSMS.ipynb",
   "provenance": []
  },
  "kernelspec": {
   "display_name": "Python 3 (ipykernel)",
   "language": "python",
   "name": "python3"
  },
  "language_info": {
   "codemirror_mode": {
    "name": "ipython",
    "version": 3
   },
   "file_extension": ".py",
   "mimetype": "text/x-python",
   "name": "python",
   "nbconvert_exporter": "python",
   "pygments_lexer": "ipython3",
   "version": "3.9.7"
  }
 },
 "nbformat": 4,
 "nbformat_minor": 1
}
